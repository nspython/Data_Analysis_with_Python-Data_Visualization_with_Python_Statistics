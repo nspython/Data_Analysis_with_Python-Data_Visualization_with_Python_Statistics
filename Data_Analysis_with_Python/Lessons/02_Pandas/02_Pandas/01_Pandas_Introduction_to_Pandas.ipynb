{
 "cells": [
  {
   "cell_type": "markdown",
   "metadata": {},
   "source": [
    "# Introduction to Pandas"
   ]
  },
  {
   "cell_type": "markdown",
   "metadata": {},
   "source": [
    " - Pandas is an open source library built on top of NumPy\n",
    " - It allows importing data of various file formats such as csv, excel etc.\n",
    " - It allows for fast analysis and data cleaning and preparation\n",
    " - It also has built-in visualisation features"
   ]
  },
  {
   "cell_type": "markdown",
   "metadata": {},
   "source": [
    "- You'll need to install pandas by going to your command line or terminal and using either\n",
    "<br> **conda install pandas** (if you have the Anaconda distribution)\n",
    "<br> **pip install pandas**"
   ]
  },
  {
   "cell_type": "code",
   "execution_count": null,
   "metadata": {},
   "outputs": [],
   "source": []
  }
 ],
 "metadata": {
  "kernelspec": {
   "display_name": "Python 3",
   "language": "python",
   "name": "python3"
  },
  "language_info": {
   "codemirror_mode": {
    "name": "ipython",
    "version": 3
   },
   "file_extension": ".py",
   "mimetype": "text/x-python",
   "name": "python",
   "nbconvert_exporter": "python",
   "pygments_lexer": "ipython3",
   "version": "3.8.3"
  }
 },
 "nbformat": 4,
 "nbformat_minor": 4
}
